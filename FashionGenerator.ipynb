{
 "cells": [
  {
   "cell_type": "code",
   "execution_count": 2,
   "metadata": {},
   "outputs": [
    {
     "ename": "ImportError",
     "evalue": "No module named data_gmm",
     "output_type": "error",
     "traceback": [
      "\u001b[0;31m---------------------------------------------------------------------------\u001b[0m",
      "\u001b[0;31mImportError\u001b[0m                               Traceback (most recent call last)",
      "\u001b[0;32m<ipython-input-2-b90da547f56b>\u001b[0m in \u001b[0;36m<module>\u001b[0;34m()\u001b[0m\n\u001b[1;32m     15\u001b[0m \u001b[0;34m\u001b[0m\u001b[0m\n\u001b[1;32m     16\u001b[0m \u001b[0;31m#gausian mixture model for generating data\u001b[0m\u001b[0;34m\u001b[0m\u001b[0;34m\u001b[0m\u001b[0m\n\u001b[0;32m---> 17\u001b[0;31m \u001b[0;32mfrom\u001b[0m \u001b[0mdata_gmm\u001b[0m \u001b[0;32mimport\u001b[0m \u001b[0mGMM_distribution\u001b[0m\u001b[0;34m,\u001b[0m \u001b[0msample_GMM\u001b[0m\u001b[0;34m,\u001b[0m \u001b[0mplot_GMM\u001b[0m\u001b[0;34m\u001b[0m\u001b[0m\n\u001b[0m\u001b[1;32m     18\u001b[0m \u001b[0;31m#analyzing data\u001b[0m\u001b[0;34m\u001b[0m\u001b[0;34m\u001b[0m\u001b[0m\n\u001b[1;32m     19\u001b[0m \u001b[0;32mfrom\u001b[0m \u001b[0mdata_utils\u001b[0m \u001b[0;32mimport\u001b[0m \u001b[0mshuffle\u001b[0m\u001b[0;34m,\u001b[0m \u001b[0miter_data\u001b[0m\u001b[0;34m\u001b[0m\u001b[0m\n",
      "\u001b[0;31mImportError\u001b[0m: No module named data_gmm"
     ]
    }
   ],
   "source": [
    "#bridging the python 2 and python 3 gap\n",
    "from __future__ import absolute_import\n",
    "from __future__ import division\n",
    "from __future__ import print_function\n",
    "\n",
    "import os # saving files\n",
    "import numpy as np #matrix math\n",
    "\n",
    "#visualizing data\n",
    "import matplotlib.pyplot as plt\n",
    "import matplotlib.cm as cm\n",
    "\n",
    "#machine learning\n",
    "import tensorflow as tf\n",
    "\n",
    "#gausian mixture model for generating data\n",
    "from data_gmm import GMM_distribution, sample_GMM, plot_GMM\n",
    "#analyzing data \n",
    "from data_utils import shuffle, iter_data\n",
    "\n",
    "#progress bar\n",
    "from tqdm import tqdm\n",
    "\n",
    "#TF-Slim is a lightweight library for defining, training and evaluating models in TensorFlow. It enables defining complex networks quickly and concisely\n",
    "slim = tf.contrib.slim\n",
    "\n",
    "#Classes that represent batches of statistical distributions. \n",
    "#Each class is initialized with parameters that define the distributions\n",
    "ds = tf.contrib.distributions\n",
    "\n",
    "#Create a new graph which compute the targets from the replaced Tensors.\n",
    "\n",
    "graph_replace = tf.contrib.graph_editor.graph_replace"
   ]
  },
  {
   "cell_type": "code",
   "execution_count": null,
   "metadata": {},
   "outputs": [],
   "source": [
    "#hyperparams\n",
    "\"\"\" parameters \"\"\"\n",
    "n_epoch = 1000 #number of epcohs\n",
    "batch_size  = 64\n",
    "dataset_size = 512\n",
    "input_dim = 2 #data and labels\n",
    "latent_dim = 2 \n",
    "eps_dim = 2\n",
    "\n",
    "\n",
    "#discriminator\n",
    "n_layer_disc = 2\n",
    "n_hidden_disc = 256\n",
    "\n",
    "#generator \n",
    "n_layer_gen = 2\n",
    "n_hidden_gen= 256\n",
    "\n",
    "#inference network (generator #2)\n",
    "n_layer_inf = 2\n",
    "n_hidden_inf= 256"
   ]
  },
  {
   "cell_type": "code",
   "execution_count": 3,
   "metadata": {},
   "outputs": [],
   "source": [
    "#save our results to the DiscoGAN folder\n",
    "\"\"\" Create directory for results \"\"\"\n",
    "result_dir = 'results/DiscoGAN/'\n",
    "directory = result_dir\n",
    "if not os.path.exists(directory):\n",
    "    os.makedirs(directory)"
   ]
  },
  {
   "cell_type": "code",
   "execution_count": null,
   "metadata": {},
   "outputs": [],
   "source": []
  }
 ],
 "metadata": {
  "kernelspec": {
   "display_name": "Python 2",
   "language": "python",
   "name": "python2"
  },
  "language_info": {
   "codemirror_mode": {
    "name": "ipython",
    "version": 2
   },
   "file_extension": ".py",
   "mimetype": "text/x-python",
   "name": "python",
   "nbconvert_exporter": "python",
   "pygments_lexer": "ipython2",
   "version": "2.7.15"
  }
 },
 "nbformat": 4,
 "nbformat_minor": 2
}
